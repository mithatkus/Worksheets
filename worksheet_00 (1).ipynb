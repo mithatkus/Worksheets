{
  "cells": [
    {
      "cell_type": "markdown",
      "metadata": {
        "id": "cxP0RiwIU1f7"
      },
      "source": [
        "# Worksheet 00\n",
        "\n",
        "Name:  Mithat Kus\n",
        "\n",
        "UID: U71567824\n",
        "\n",
        "### Topics\n",
        "\n",
        "- course overview\n",
        "- python review\n",
        "\n",
        "### Course Overview\n",
        "\n",
        "a) Why are you taking this course?"
      ]
    },
    {
      "cell_type": "markdown",
      "metadata": {
        "id": "aDSA_sv0U1f9"
      },
      "source": [
        "I have realized this last year that AI/ML is what I want to be doing with CS and so taking a data science class seemed like a great opportunity to get started with this path."
      ]
    },
    {
      "cell_type": "markdown",
      "metadata": {
        "id": "__inlOlbU1f9"
      },
      "source": [
        "b) What are your academic and professional goals for this semester?"
      ]
    },
    {
      "cell_type": "markdown",
      "metadata": {
        "id": "iwzLCW6OU1f9"
      },
      "source": [
        "I want to learn as much as I can, and start working on projects to improve my coding skills as well as my portfloio"
      ]
    },
    {
      "cell_type": "markdown",
      "metadata": {
        "id": "9teAJEtkU1f9"
      },
      "source": [
        "c) Do you have previous Data Science experience? If so, please expand."
      ]
    },
    {
      "cell_type": "markdown",
      "metadata": {
        "id": "0Ke1-Gz1U1f9"
      },
      "source": [
        "I started taking codeacademy courses on Data Science/ML and worked on a few kaggle challenges at the start of this summer. I then had a data science internship where I was mostly working on pre-processing datasets, creating models and preparing dashboards."
      ]
    },
    {
      "cell_type": "markdown",
      "metadata": {
        "id": "NwqJyNq4U1f9"
      },
      "source": [
        "d) Data Science is a combination of programming, math (linear algebra and calculus), and statistics. Which of these three do you struggle with the most (you may pick more than one)?"
      ]
    },
    {
      "cell_type": "markdown",
      "metadata": {
        "id": "YViBCc7FU1f-"
      },
      "source": [
        "Statistics"
      ]
    },
    {
      "cell_type": "markdown",
      "metadata": {
        "id": "NIbagaD4U1f-"
      },
      "source": [
        "The rest of this worksheet is optional. If you have prior Python experience, you are welcome to skip it HOWEVER I strongly encourage you to try out the questions marked as `challenging`.\n",
        "\n",
        "### Python review (Optional)\n",
        "\n",
        "#### Lambda functions\n",
        "\n",
        "Python supports the creation of anonymous functions (i.e. functions that are not bound to a name) at runtime, using a construct called `lambda`. Instead of writing a named function as such:"
      ]
    },
    {
      "cell_type": "code",
      "execution_count": 1,
      "metadata": {
        "id": "yKJ0WDVeU1f-",
        "outputId": "eeff9456-fd9d-43ff-ecad-debc89c53eb9",
        "colab": {
          "base_uri": "https://localhost:8080/"
        }
      },
      "outputs": [
        {
          "output_type": "execute_result",
          "data": {
            "text/plain": [
              "64"
            ]
          },
          "metadata": {},
          "execution_count": 1
        }
      ],
      "source": [
        "def f(x):\n",
        "    return x**2\n",
        "f(8)"
      ]
    },
    {
      "cell_type": "markdown",
      "metadata": {
        "id": "dR7gVBuCU1f_"
      },
      "source": [
        "One can write an anonymous function as such:"
      ]
    },
    {
      "cell_type": "code",
      "execution_count": 2,
      "metadata": {
        "id": "sCOqJ7u3U1f_",
        "outputId": "2d851da0-bd4a-49ae-a6ab-6bbdf32e5640",
        "colab": {
          "base_uri": "https://localhost:8080/"
        }
      },
      "outputs": [
        {
          "output_type": "execute_result",
          "data": {
            "text/plain": [
              "64"
            ]
          },
          "metadata": {},
          "execution_count": 2
        }
      ],
      "source": [
        "(lambda x: x**2)(8)"
      ]
    },
    {
      "cell_type": "markdown",
      "metadata": {
        "id": "_a4YmGSmU1f_"
      },
      "source": [
        "A `lambda` function can take multiple arguments:"
      ]
    },
    {
      "cell_type": "code",
      "execution_count": null,
      "metadata": {
        "id": "EyooW4NFU1gA",
        "outputId": "30a44fe5-b738-4c64-c59a-5fafdd753d1e"
      },
      "outputs": [
        {
          "data": {
            "text/plain": [
              "5"
            ]
          },
          "execution_count": 3,
          "metadata": {},
          "output_type": "execute_result"
        }
      ],
      "source": [
        "(lambda x, y : x + y)(2, 3)"
      ]
    },
    {
      "cell_type": "markdown",
      "metadata": {
        "id": "hzYMXPuCU1gA"
      },
      "source": [
        "The arguments can be `lambda` functions themselves:"
      ]
    },
    {
      "cell_type": "code",
      "execution_count": null,
      "metadata": {
        "id": "H25TkA1nU1gA",
        "outputId": "b9c8cff1-54d5-448b-b796-a50c8d686ca9"
      },
      "outputs": [
        {
          "data": {
            "text/plain": [
              "5"
            ]
          },
          "execution_count": 4,
          "metadata": {},
          "output_type": "execute_result"
        }
      ],
      "source": [
        "(lambda x : x(3))(lambda y: 2 + y)"
      ]
    },
    {
      "cell_type": "markdown",
      "metadata": {
        "id": "ns6QP0ZHU1gA"
      },
      "source": [
        "a) write a `lambda` function that takes three arguments `x, y, z` and returns `True` only if `x < y < z`."
      ]
    },
    {
      "cell_type": "code",
      "execution_count": 3,
      "metadata": {
        "id": "psTlVUnUU1gA",
        "colab": {
          "base_uri": "https://localhost:8080/"
        },
        "outputId": "f3b9ea15-e782-4037-a293-6b8b5f6a622c"
      },
      "outputs": [
        {
          "output_type": "execute_result",
          "data": {
            "text/plain": [
              "<function __main__.<lambda>(x, y)>"
            ]
          },
          "metadata": {},
          "execution_count": 3
        }
      ],
      "source": [
        "(lambda x, y : x < y < z)"
      ]
    },
    {
      "cell_type": "markdown",
      "metadata": {
        "id": "p2LdTzesU1gA"
      },
      "source": [
        "b) write a `lambda` function that takes a parameter `n` and returns a lambda function that will multiply any input it receives by `n`."
      ]
    },
    {
      "cell_type": "code",
      "execution_count": 13,
      "metadata": {
        "id": "IBIYZKkSU1gB",
        "colab": {
          "base_uri": "https://localhost:8080/"
        },
        "outputId": "2619d6f3-5b50-4239-a8e4-777d62df8b39"
      },
      "outputs": [
        {
          "output_type": "execute_result",
          "data": {
            "text/plain": [
              "<function __main__.<lambda>(n)>"
            ]
          },
          "metadata": {},
          "execution_count": 13
        }
      ],
      "source": [
        "(lambda n: (lambda x: x * n))\n"
      ]
    },
    {
      "cell_type": "markdown",
      "metadata": {
        "id": "sv4QqQ8QU1gB"
      },
      "source": [
        "#### Map\n",
        "\n",
        "`map(func, s)`\n",
        "\n",
        "`func` is a function and `s` is a sequence (e.g., a list).\n",
        "\n",
        "`map()` returns an object that will apply function `func` to each of the elements of `s`.\n",
        "\n",
        "For example if you want to multiply every element in a list by 2 you can write the following:"
      ]
    },
    {
      "cell_type": "code",
      "execution_count": null,
      "metadata": {
        "id": "BAWikUgCU1gB",
        "outputId": "adb6b4b5-1ec6-4fa3-a150-e50d7533a8a8"
      },
      "outputs": [
        {
          "name": "stdout",
          "output_type": "stream",
          "text": [
            "[2, 4, 6, 8, 10]\n"
          ]
        }
      ],
      "source": [
        "mylist = [1, 2, 3, 4, 5]\n",
        "mylist_mul_by_2 = map(lambda x : 2 * x, mylist)\n",
        "print(list(mylist_mul_by_2))"
      ]
    },
    {
      "cell_type": "markdown",
      "metadata": {
        "id": "FJn2Wd-uU1gB"
      },
      "source": [
        "`map` can also be applied to more than one list as long as they are the same size:"
      ]
    },
    {
      "cell_type": "code",
      "execution_count": null,
      "metadata": {
        "id": "Ah7GhylzU1gB",
        "outputId": "7069be86-1613-4865-b0dd-6e4cb0bdb842"
      },
      "outputs": [
        {
          "data": {
            "text/plain": [
              "[6, 6, 6, 6, 6]"
            ]
          },
          "execution_count": 9,
          "metadata": {},
          "output_type": "execute_result"
        }
      ],
      "source": [
        "a = [1, 2, 3, 4, 5]\n",
        "b = [5, 4, 3, 2, 1]\n",
        "\n",
        "a_plus_b = map(lambda x, y: x + y, a, b)\n",
        "list(a_plus_b)"
      ]
    },
    {
      "cell_type": "markdown",
      "metadata": {
        "id": "GXinNiN2U1gB"
      },
      "source": [
        "c) write a map that checks if elements are greater than zero"
      ]
    },
    {
      "cell_type": "code",
      "execution_count": 5,
      "metadata": {
        "id": "8WmulsovU1gB",
        "colab": {
          "base_uri": "https://localhost:8080/"
        },
        "outputId": "5e14271c-cc26-44a2-8877-fa5e82d77bc4"
      },
      "outputs": [
        {
          "output_type": "execute_result",
          "data": {
            "text/plain": [
              "[False, False, False, True, True]"
            ]
          },
          "metadata": {},
          "execution_count": 5
        }
      ],
      "source": [
        "c = [-2, -1, 0, 1, 2]\n",
        "gt_zero = map(lambda x : x > 0, c)\n",
        "list(gt_zero)"
      ]
    },
    {
      "cell_type": "markdown",
      "metadata": {
        "id": "RSYS3WTdU1gB"
      },
      "source": [
        "d) write a map that checks if elements are multiples of 3"
      ]
    },
    {
      "cell_type": "code",
      "execution_count": 6,
      "metadata": {
        "id": "dWgnBXKqU1gC",
        "colab": {
          "base_uri": "https://localhost:8080/"
        },
        "outputId": "5fea68ff-10ac-43c4-9899-9b884ec7c250"
      },
      "outputs": [
        {
          "output_type": "execute_result",
          "data": {
            "text/plain": [
              "[False, True, True, False, False]"
            ]
          },
          "metadata": {},
          "execution_count": 6
        }
      ],
      "source": [
        "d = [1, 3, 6, 11, 2]\n",
        "mul_of3 = map(lambda x : x % 3 == 0, d)\n",
        "list(mul_of3)"
      ]
    },
    {
      "cell_type": "markdown",
      "metadata": {
        "id": "YggPSdMLU1gC"
      },
      "source": [
        "#### Filter\n",
        "\n",
        "`filter(function, list)` returns a new list containing all the elements of `list` for which `function()` evaluates to `True.`\n",
        "\n",
        "e) write a filter that will only return even numbers in the list"
      ]
    },
    {
      "cell_type": "code",
      "execution_count": 8,
      "metadata": {
        "id": "VvCZwwaSU1gC",
        "colab": {
          "base_uri": "https://localhost:8080/"
        },
        "outputId": "2643c719-ad3a-4c5f-9a81-b9ba680bf952"
      },
      "outputs": [
        {
          "output_type": "execute_result",
          "data": {
            "text/plain": [
              "[2, 4, 6, 8, 10]"
            ]
          },
          "metadata": {},
          "execution_count": 8
        }
      ],
      "source": [
        "e = [1, 2, 3, 4, 5, 6, 7, 8, 9, 10]\n",
        "evens = filter(lambda x : x % 2 == 0, e)\n",
        "list(evens)"
      ]
    },
    {
      "cell_type": "markdown",
      "metadata": {
        "id": "2G_YhzEBU1gC"
      },
      "source": [
        "#### Reduce\n",
        "\n",
        "`reduce(function, sequence[, initial])` returns the result of sequencially applying the function to the sequence (starting at an initial state). You can think of reduce as consuming the sequence via the function.\n",
        "\n",
        "For example, let's say we want to add all elements in a list. We could write the following:"
      ]
    },
    {
      "cell_type": "code",
      "execution_count": 17,
      "metadata": {
        "id": "ir3HfOUWU1gC",
        "outputId": "48bd7d74-2eed-45a8-c7a0-a0cd2358916d",
        "colab": {
          "base_uri": "https://localhost:8080/"
        }
      },
      "outputs": [
        {
          "output_type": "stream",
          "name": "stdout",
          "text": [
            "15\n"
          ]
        }
      ],
      "source": [
        "from functools import reduce\n",
        "\n",
        "nums = [1, 2, 3, 4, 5]\n",
        "sum_nums = reduce(lambda acc, x : acc + x, nums, 0)\n",
        "print(sum_nums)"
      ]
    },
    {
      "cell_type": "markdown",
      "metadata": {
        "id": "BA3QW9WBU1gC"
      },
      "source": [
        "Let's walk through the steps of `reduce` above:\n",
        "\n",
        "1) the value of `acc` is set to 0 (our initial value)\n",
        "2) Apply the lambda function on `acc` and the first element of the list: `acc` = `acc` + 1 = 1\n",
        "3) `acc` = `acc` + 2 = 3\n",
        "4) `acc` = `acc` + 3 = 6\n",
        "5) `acc` = `acc` + 4 = 10\n",
        "6) `acc` = `acc` + 5 = 15\n",
        "7) return `acc`\n",
        "\n",
        "`acc` is short for `accumulator`.\n",
        "\n",
        "f) `*challenging` Using `reduce` write a function that returns the factorial of a number. (recall: N! (N factorial) = N * (N - 1) * (N - 2) * ... * 2 * 1)"
      ]
    },
    {
      "cell_type": "code",
      "execution_count": 18,
      "metadata": {
        "id": "BtwnTEE2U1gC",
        "colab": {
          "base_uri": "https://localhost:8080/"
        },
        "outputId": "90ece137-4ae8-4f0d-91fa-42ec2d0e0132"
      },
      "outputs": [
        {
          "output_type": "execute_result",
          "data": {
            "text/plain": [
              "3628800"
            ]
          },
          "metadata": {},
          "execution_count": 18
        }
      ],
      "source": [
        "factorial = lambda x : 1 if x == 0 else reduce(lambda acc, x : acc * x, range(1,x+1), 1)\n",
        "factorial(10)"
      ]
    },
    {
      "cell_type": "markdown",
      "metadata": {
        "id": "3LYFglxdU1gD"
      },
      "source": [
        "g) `*challenging` Using `reduce` and `filter`, write a function that returns all the primes below a certain number"
      ]
    },
    {
      "cell_type": "code",
      "execution_count": 27,
      "metadata": {
        "id": "jkNwXieiU1gD",
        "colab": {
          "base_uri": "https://localhost:8080/"
        },
        "outputId": "278a0e08-f0df-4b4a-e019-db555ab55a47"
      },
      "outputs": [
        {
          "output_type": "stream",
          "name": "stdout",
          "text": [
            "[2, 3, 5, 7, 11, 13, 17, 19, 23, 29]\n"
          ]
        }
      ],
      "source": [
        "is_prime = lambda x: x > 1 and all(map(lambda i: x % i != 0, range(2, int(x**(0.5)) + 1)))\n",
        "checker = lambda x: list(filter(is_prime, range(2, x)))\n",
        "\n",
        "number = 30\n",
        "print(checker(number))\n"
      ]
    },
    {
      "cell_type": "markdown",
      "metadata": {
        "id": "qgXO1s7PU1gD"
      },
      "source": [
        "### What is going on?\n",
        "\n",
        "This whole section is `*challenging`\n",
        "\n",
        "For each of the following code snippets, explain why the output is what it is:"
      ]
    },
    {
      "cell_type": "code",
      "execution_count": 28,
      "metadata": {
        "id": "qjkAozw8U1gD",
        "outputId": "aade9941-abbf-41a3-ae1c-4137a5f2e910",
        "colab": {
          "base_uri": "https://localhost:8080/"
        }
      },
      "outputs": [
        {
          "output_type": "stream",
          "name": "stdout",
          "text": [
            "OVERDRAWN\n"
          ]
        }
      ],
      "source": [
        "class Bank:\n",
        "  def __init__(self, balance):\n",
        "    self.balance = balance\n",
        "\n",
        "  def is_overdrawn(self):\n",
        "    return self.balance < 0\n",
        "\n",
        "myBank = Bank(100)\n",
        "if myBank.is_overdrawn :\n",
        "  print(\"OVERDRAWN\")\n",
        "else:\n",
        "  print(\"ALL GOOD\")"
      ]
    },
    {
      "cell_type": "markdown",
      "metadata": {
        "id": "4jd8jkTOU1gD"
      },
      "source": [
        "In python, methods are called with parantheses to obtain the result of that method. In our case, myBank.is_overdrawn() is the correct way to call the method. The output is \"OVERDRAWN\" because the if statement is checking if the is_overdrawn method exists, which it does and therefore that print statement is executed."
      ]
    },
    {
      "cell_type": "code",
      "execution_count": 32,
      "metadata": {
        "id": "0A_QFTpoU1gE",
        "outputId": "7c8bf6ae-de7e-48f7-e59b-b66c1e9fa2b4",
        "colab": {
          "base_uri": "https://localhost:8080/"
        }
      },
      "outputs": [
        {
          "output_type": "stream",
          "name": "stdout",
          "text": [
            "0\n",
            "1\n",
            "2\n",
            "3\n"
          ]
        }
      ],
      "source": [
        "for i in range(4):\n",
        "    print(i)\n",
        "    i = 10"
      ]
    },
    {
      "cell_type": "markdown",
      "metadata": {
        "id": "48nlqB-3U1gE"
      },
      "source": [
        "On each iteration of the for loop, the variable i is assigned to 0, 1, 2 and 3. Thus, assigning another value to the variable inside the loop doesn't affect the output because it's going to be assigned another value right after that."
      ]
    },
    {
      "cell_type": "code",
      "execution_count": null,
      "metadata": {
        "id": "V7--li93U1gE",
        "outputId": "fe172d04-a269-4c2f-e9b2-f44b76ac0425"
      },
      "outputs": [
        {
          "name": "stdout",
          "output_type": "stream",
          "text": [
            "[['', '', ''], ['', '', ''], ['', '', '']]\n",
            "[['X', '', ''], ['X', '', ''], ['X', '', '']]\n"
          ]
        }
      ],
      "source": [
        "row = [\"\"] * 3 # row i['', '', '']\n",
        "board = [row] * 3\n",
        "print(board) # [['', '', ''], ['', '', ''], ['', '', '']]\n",
        "board[0][0] = \"X\"\n",
        "print(board)"
      ]
    },
    {
      "cell_type": "markdown",
      "metadata": {
        "id": "2TLoWJMsU1gE"
      },
      "source": [
        "The line 'board = [row] * 3' is creating a list with 3 references to the same list, which means that the line 'board[0][0] = \"X\"' is going to alter all 3 lists"
      ]
    },
    {
      "cell_type": "code",
      "execution_count": 34,
      "metadata": {
        "id": "q6uxyDSMU1gE",
        "outputId": "3cb41356-2c72-4f7b-9585-958d33be8c56",
        "colab": {
          "base_uri": "https://localhost:8080/"
        }
      },
      "outputs": [
        {
          "output_type": "stream",
          "name": "stdout",
          "text": [
            "[0, 1, 2]\n",
            "[2, 2, 2]\n"
          ]
        }
      ],
      "source": [
        "funcs = []\n",
        "results = []\n",
        "for x in range(3):\n",
        "    def some_func():\n",
        "        return x\n",
        "    funcs.append(some_func)\n",
        "    results.append(some_func())  # note the function call here\n",
        "\n",
        "funcs_results = [func() for func in funcs]\n",
        "print(results) # [0,1,2]\n",
        "print(funcs_results)"
      ]
    },
    {
      "cell_type": "markdown",
      "metadata": {
        "id": "vjUSGIE1U1gF"
      },
      "source": [
        "With the line 'funcs.append(some_func)', we are appending the function 'some_func' to our list 'funcs' three times, and all the functions have the reference to the same x variable. Therefore when the loop is executed for the last time and x = 2, all three functions have a reference to x = 2. As a result, after the assignment 'funcs_results = [func() for func in funcs]' the output is [2, 2, 2]."
      ]
    },
    {
      "cell_type": "code",
      "execution_count": null,
      "metadata": {
        "id": "YjmPoPLwU1gF",
        "outputId": "f2ecff0e-7f88-4a6e-e5b8-165c5de55f7b"
      },
      "outputs": [
        {
          "name": "stdout",
          "output_type": "stream",
          "text": [
            "0\n"
          ]
        }
      ],
      "source": [
        "f = open(\"./data.txt\", \"w+\")\n",
        "f.write(\"1,2,3,4,5\")\n",
        "f.close()\n",
        "\n",
        "nums = []\n",
        "with open(\"./data.txt\", \"w+\") as f:\n",
        "  lines = f.readlines()\n",
        "  for line in lines:\n",
        "    nums += [int(x) for x in line.split(\",\")]\n",
        "\n",
        "print(sum(nums))"
      ]
    },
    {
      "cell_type": "markdown",
      "metadata": {
        "id": "I5kmgyGAU1gF"
      },
      "source": [
        "In the line 'with open(\"./data.txt\", \"w+\") as f:' the file is opened in both read and write modes, meaning that the content of the files are deleted. As a result, there are no lines to iterate over and so the list 'nums' stays as an empty list."
      ]
    }
  ],
  "metadata": {
    "interpreter": {
      "hash": "e7370f93d1d0cde622a1f8e1c04877d8463912d04d973331ad4851f04de6915a"
    },
    "kernelspec": {
      "display_name": "Python 3.9.9 64-bit",
      "language": "python",
      "name": "python3"
    },
    "language_info": {
      "codemirror_mode": {
        "name": "ipython",
        "version": 3
      },
      "file_extension": ".py",
      "mimetype": "text/x-python",
      "name": "python",
      "nbconvert_exporter": "python",
      "pygments_lexer": "ipython3",
      "version": "3.11.1 (main, Dec  7 2022, 00:00:00) [GCC 12.2.1 20221121 (Red Hat 12.2.1-4)]"
    },
    "orig_nbformat": 4,
    "colab": {
      "provenance": []
    }
  },
  "nbformat": 4,
  "nbformat_minor": 0
}