{
 "cells": [
  {
   "attachments": {},
   "cell_type": "markdown",
   "metadata": {},
   "source": [
    "# Worksheet 02\n",
    "\n",
    "Name:  Mithat Kus\n",
    "UID: U71567824\n",
    "\n",
    "### Topics\n",
    "\n",
    "- Effective Programming\n",
    "\n",
    "### Effective Programming\n",
    "\n",
    "a) What is a drawback of the top down approach?"
   ]
  },
  {
   "cell_type": "markdown",
   "metadata": {},
   "source": [
    "It makes the code unusable until pretty much every aspect of the code is complete, because it's harder to test incomplete code"
   ]
  },
  {
   "cell_type": "markdown",
   "metadata": {},
   "source": [
    "b) What is a drawback of the bottom up approach?"
   ]
  },
  {
   "cell_type": "markdown",
   "metadata": {},
   "source": [
    "Because the programmer will start creating detailed components without necessarily having a clear overall design, they will often end up writing more code than is necesary."
   ]
  },
  {
   "cell_type": "markdown",
   "metadata": {},
   "source": [
    "c) What are 3 things you can do to have a better debugging experience?"
   ]
  },
  {
   "cell_type": "markdown",
   "metadata": {},
   "source": [
    "Reread the error"
   ]
  },
  {
   "cell_type": "code",
   "execution_count": null,
   "metadata": {},
   "outputs": [],
   "source": [
    "Reread the code"
   ]
  },
  {
   "cell_type": "code",
   "execution_count": null,
   "metadata": {},
   "outputs": [],
   "source": [
    "Do a sanity check - make sure everything is set up the way they are meant to"
   ]
  },
  {
   "attachments": {},
   "cell_type": "markdown",
   "metadata": {},
   "source": [
    "d) Follow along with the live coding. You can write your code here:"
   ]
  },
  {
   "cell_type": "code",
   "execution_count": 2,
   "metadata": {},
   "outputs": [
    {
     "ename": "SyntaxError",
     "evalue": "invalid syntax (2506924587.py, line 1)",
     "output_type": "error",
     "traceback": [
      "\u001b[0;36m  Cell \u001b[0;32mIn[2], line 1\u001b[0;36m\u001b[0m\n\u001b[0;31m    class EightQ\u001b[0m\n\u001b[0m                ^\u001b[0m\n\u001b[0;31mSyntaxError\u001b[0m\u001b[0;31m:\u001b[0m invalid syntax\n"
     ]
    }
   ],
   "source": [
    "class EightQ\n",
    "\n",
    "    def __init__(self):\n",
    "        self.board = [[\"_\" for _ in range(8)] for _ in range(8)]\n",
    "\n",
    "    def __repr__(self):\n",
    "        res = \"\"\n",
    "        for row in self.board:\n",
    "            for col in row:\n",
    "                res += col\n",
    "                res += \"\"\n",
    "            res += \"\\n\"\n",
    "        return res\n",
    "\n",
    "    def search(self):\n",
    "        row = 0\n",
    "        col = 0\n",
    "        while row >= 0:\n",
    "            if row < 8:\n",
    "                if self.is_legal(row,col):\n",
    "                    self.set_queen_at(row,col)\n",
    "                    row += 1\n",
    "                    col = 0\n",
    "                else:\n",
    "                    print('found a solution')\n",
    "                    print(self)\n",
    "                    col += 1\n",
    "                    while col >= 8:\n",
    "                        col = self.get_queen_at(row-1)\n",
    "                        self.unset_queen_at(row-1)\n",
    "                        col += 1\n",
    "                        row -= 1\n",
    "\n",
    "    def set_queen_at(self, row, col):\n",
    "        self.board[row][col] = 'Q'\n",
    "\n",
    "    def unset_queen_at(self,row):\n",
    "        self.board[row] = [\"_\" for _ in range(8)]\n",
    "\n",
    "    def get_queen_at(self, row):\n",
    "        for col in range(len(self.board)):\n",
    "            if self.board[row][col] == 'Q'\n",
    "                return col\n",
    "        raise ValueError(\"Programmer Error\")\n",
    "\n",
    "    def is_legal(self, row, col):\n",
    "        if not self.is_legal_row(row, col):\n",
    "            return False\n",
    "        if not self.is_legal_col(row,col):\n",
    "            return False\n",
    "        return True\n",
    "\n",
    "    def is_legal_row(self,row,col):\n",
    "        for j in range(len(self.board)):\n",
    "            if self.board[row][j] == 'Q':\n",
    "                return False\n",
    "        return True\n",
    "\n",
    "    def is_legal_col(self,row,col):\n",
    "        for i in range(8):\n",
    "            if self.board[i][col] == 'Q':\n",
    "                return False\n",
    "        return True\n",
    "\n",
    "    def is_legal_diag(self,row,col):\n",
    "        for i in range(len(self.board)):\n",
    "            if self.is_on_board(row-i,col-i) and self.board[row-i][col-1]=='Q':\n",
    "                return False\n",
    "            \n",
    "\n"
   ]
  },
  {
   "cell_type": "code",
   "execution_count": null,
   "metadata": {},
   "outputs": [],
   "source": []
  }
 ],
 "metadata": {
  "kernelspec": {
   "display_name": "Python 3 (ipykernel)",
   "language": "python",
   "name": "python3"
  },
  "language_info": {
   "codemirror_mode": {
    "name": "ipython",
    "version": 3
   },
   "file_extension": ".py",
   "mimetype": "text/x-python",
   "name": "python",
   "nbconvert_exporter": "python",
   "pygments_lexer": "ipython3",
   "version": "3.8.0"
  },
  "vscode": {
   "interpreter": {
    "hash": "76ca05dc3ea24b2e3b98cdb7774adfbb40773424bf5109b477fd793f623715af"
   }
  }
 },
 "nbformat": 4,
 "nbformat_minor": 4
}
